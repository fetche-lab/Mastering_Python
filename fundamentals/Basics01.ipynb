{
 "cells": [
  {
   "cell_type": "markdown",
   "id": "750fd7c8-cd59-408b-a4a3-8811e6372997",
   "metadata": {},
   "source": [
    "### Qn01 "
   ]
  },
  {
   "cell_type": "code",
   "execution_count": 4,
   "id": "e309a447-b5aa-4081-88a0-7820788cd573",
   "metadata": {},
   "outputs": [
    {
     "name": "stdout",
     "output_type": "stream",
     "text": [
      "Twinkle, twinkle,little star, \n",
      "             How I wonder what you are!\n",
      "                Up above the world so high,\n",
      "                Like a diamond in the sky. \n",
      "Twinkle, twinkle,little star, \n",
      "    How I wonder what you are\n"
     ]
    }
   ],
   "source": [
    "'''\n",
    "Write a Python program to print the following string in a specific format. Sample String : \"Twinkle, twinkle,\n",
    "little star, How I wonder what you are! Up above the world so high,Like a diamond in the sky. Twinkle, twinkle,\n",
    "little star, How I wonder what you are\" Output :\n",
    "\n",
    "Twinkle, twinkle, little star,\n",
    "\tHow I wonder what you are! \n",
    "\t\tUp above the world so high,   \t\t\n",
    "\t\tLike a diamond in the sky. \n",
    "Twinkle, twinkle, little star, \n",
    "\tHow I wonder what you are\n",
    "'''\n",
    "\n",
    "## solution \n",
    "print('''Twinkle, twinkle,little star, \n",
    "             How I wonder what you are!\n",
    "                Up above the world so high,\n",
    "                Like a diamond in the sky. \n",
    "Twinkle, twinkle,little star, \n",
    "    How I wonder what you are''')\n",
    "\n"
   ]
  },
  {
   "cell_type": "markdown",
   "id": "5de94a22-69ac-44fe-8142-a24335584293",
   "metadata": {},
   "source": [
    "#### OR "
   ]
  },
  {
   "cell_type": "code",
   "execution_count": 8,
   "id": "fc0f8aa4-c1ae-4f20-a649-d5c7e426a5cb",
   "metadata": {},
   "outputs": [
    {
     "name": "stdout",
     "output_type": "stream",
     "text": [
      "Twinkle, twinkle,little star, \n",
      "\tHow I wonder what you are! \n",
      "\t\tUp above the world so high,\n",
      "\t\tLike a diamond in the sky. \n",
      "Twinkle, twinkle,little star,\n",
      "\tHow I wonder what you are\n"
     ]
    }
   ],
   "source": [
    "print('Twinkle, twinkle,little star, \\n\\tHow I wonder what you are! \\n\\t\\tUp above the world so high,\\n\\t\\tLike a diamond in the sky. \\nTwinkle, twinkle,little star,\\n\\tHow I wonder what you are')"
   ]
  },
  {
   "cell_type": "markdown",
   "id": "9e341b84-72cb-441f-8279-0c890d2b465d",
   "metadata": {},
   "source": [
    "### Qn02"
   ]
  },
  {
   "cell_type": "code",
   "execution_count": 10,
   "id": "dc15f21b-7b5e-4731-89c3-dfefef244c05",
   "metadata": {},
   "outputs": [
    {
     "name": "stdout",
     "output_type": "stream",
     "text": [
      "User current version of python:  3.10.8 (main, Nov 24 2022, 14:13:03) [GCC 11.2.0]\n",
      "User current version info: sys.version_info(major=3, minor=10, micro=8, releaselevel='final', serial=0)\n"
     ]
    }
   ],
   "source": [
    "'''Write a Python program to find out what version of Python you are using'''\n",
    "\n",
    "## solution \n",
    "### import the sys module \n",
    "import sys \n",
    "print(\"User current version of python: \", sys.version) \n",
    "print('User current version info:', sys.version_info)"
   ]
  },
  {
   "cell_type": "markdown",
   "id": "5319098c-73a7-4366-bc73-bde18c7f4210",
   "metadata": {},
   "source": [
    "### Qn03 "
   ]
  },
  {
   "cell_type": "code",
   "execution_count": 17,
   "id": "1daecc1b-09a4-4ca3-9047-1514ef0bfa3d",
   "metadata": {},
   "outputs": [
    {
     "name": "stdout",
     "output_type": "stream",
     "text": [
      " Current date and time :\n",
      " 2023-02-14 14:26:19\n"
     ]
    }
   ],
   "source": [
    "'''\n",
    "Write a Python program to display the current date and time.\n",
    "Sample Output :\n",
    "Current date and time :\n",
    "2014-07-05 14:34:14\n",
    "'''\n",
    "## solution \n",
    "### import the datetime module for now()\n",
    "import datetime \n",
    "current_time = datetime.datetime.now()\n",
    "print(\" Current date and time :\\n\", current_time.strftime('%Y-%m-%d %H:%M:%S')) \n"
   ]
  },
  {
   "cell_type": "markdown",
   "id": "cdfec817-dfae-47b0-b089-a56719a34731",
   "metadata": {},
   "source": [
    "### Qn04"
   ]
  },
  {
   "cell_type": "code",
   "execution_count": 21,
   "id": "081249ad-eca7-43c2-999d-0e6ea1b3b922",
   "metadata": {},
   "outputs": [
    {
     "name": "stdin",
     "output_type": "stream",
     "text": [
      "Enter your radius:  1.1\n"
     ]
    },
    {
     "name": "stdout",
     "output_type": "stream",
     "text": [
      " r = 1.1\n",
      " Area = 3.7994000000000008\n"
     ]
    }
   ],
   "source": [
    "'''\n",
    "Write a Python program that calculates the area of a circle based on the radius entered by the user.\n",
    "Sample Output :\n",
    "r = 1.1\n",
    "Area = 3.8013271108436504\n",
    "'''\n",
    "## solution \n",
    "User_input=float(input(\"Enter your radius: \")) ## as the radius value \n",
    "pi = 3.14 \n",
    "Area = pi*(User_input)**2 ## formula to find area of the circle \n",
    "print(f' r = {User_input}\\n Area = {Area}')"
   ]
  },
  {
   "cell_type": "markdown",
   "id": "bea9ae28-deb3-40f5-8fd5-0b5ffafae15e",
   "metadata": {},
   "source": [
    "#### OR "
   ]
  },
  {
   "cell_type": "code",
   "execution_count": 24,
   "id": "fa7743be-5bb8-4f0e-88fd-328575aaa590",
   "metadata": {},
   "outputs": [
    {
     "name": "stdin",
     "output_type": "stream",
     "text": [
      " 1.1\n"
     ]
    },
    {
     "name": "stdout",
     "output_type": "stream",
     "text": [
      "r = 1.1\n",
      "Area = 3.8013271108436504\n"
     ]
    }
   ],
   "source": [
    "## from the math module import pi \n",
    "from math import pi \n",
    "r = float(input())\n",
    "print('r =', r)\n",
    "print(f'Area = {pi * r**2}')"
   ]
  },
  {
   "cell_type": "markdown",
   "id": "4078425c-b753-423b-81fd-486bcbd5d58b",
   "metadata": {},
   "source": [
    "### Qn05 "
   ]
  },
  {
   "cell_type": "code",
   "execution_count": 31,
   "id": "db2528dc-2315-4d90-bc05-32f75d71d955",
   "metadata": {},
   "outputs": [
    {
     "name": "stdin",
     "output_type": "stream",
     "text": [
      "Enter your names separated by space:  Dorah Highness Mende \n"
     ]
    },
    {
     "name": "stdout",
     "output_type": "stream",
     "text": [
      "Mende Dorah\n"
     ]
    }
   ],
   "source": [
    "'''\n",
    "Write a Python program that accepts the user's first and last name and prints them in reverse order with a \n",
    "space between them\n",
    "'''\n",
    "### solution \n",
    "User_input = input(\"Enter your names separated by space: \") \n",
    "List_of_names = User_input.split()\n",
    "reversed_list = List_of_names[-1] + ' ' + List_of_names[0]  \n",
    "print(reversed_list)"
   ]
  },
  {
   "cell_type": "code",
   "execution_count": null,
   "id": "6114af4d-ed15-4e5d-8178-1412bd5a5c5d",
   "metadata": {},
   "outputs": [],
   "source": []
  }
 ],
 "metadata": {
  "kernelspec": {
   "display_name": "Python 3 (ipykernel)",
   "language": "python",
   "name": "python3"
  },
  "language_info": {
   "codemirror_mode": {
    "name": "ipython",
    "version": 3
   },
   "file_extension": ".py",
   "mimetype": "text/x-python",
   "name": "python",
   "nbconvert_exporter": "python",
   "pygments_lexer": "ipython3",
   "version": "3.10.8"
  }
 },
 "nbformat": 4,
 "nbformat_minor": 5
}
